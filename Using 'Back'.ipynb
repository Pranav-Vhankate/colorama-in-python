{
 "cells": [
  {
   "cell_type": "markdown",
   "metadata": {},
   "source": [
    "# Using 'Back' from colorama in python"
   ]
  },
  {
   "cell_type": "code",
   "execution_count": 1,
   "metadata": {},
   "outputs": [],
   "source": [
    "from colorama import Back"
   ]
  },
  {
   "cell_type": "code",
   "execution_count": 2,
   "metadata": {},
   "outputs": [
    {
     "name": "stdout",
     "output_type": "stream",
     "text": [
      "\u001b[41mHello World\n",
      "\n",
      "\u001b[44mHello World\n",
      "\u001b[49m\n",
      "Available Background colors (Back) in colorama:\n",
      "\n",
      "BLACK\n",
      "RED\n",
      "GREEN\n",
      "YELLOW\n",
      "BLUE\n",
      "MAGENTA\n",
      "CYAN\n",
      "WHITE\n",
      "RESET.\n"
     ]
    }
   ],
   "source": [
    "print(Back.RED + \"Hello World\\n\") #prints \"Hello World\" in 'RED' background color!\n",
    "\n",
    "print(Back.BLUE + \"Hello World\") #prints \"Hello World\" in 'BLUE' background color!\n",
    "\n",
    "print(Back.RESET) #resets the background color\n",
    "\n",
    "print(\"Available Background colors (Back) in colorama:\\n\")\n",
    "background_colors = ['BLACK', 'RED', 'GREEN', 'YELLOW', 'BLUE', 'MAGENTA', 'CYAN', 'WHITE', 'RESET.']\n",
    "for items in background_colors:\n",
    "    print(items)"
   ]
  },
  {
   "cell_type": "code",
   "execution_count": 3,
   "metadata": {},
   "outputs": [
    {
     "name": "stdout",
     "output_type": "stream",
     "text": [
      "\u001b[45mHello World!\n",
      "\u001b[49m\n",
      "\u001b[46mHello World!\n",
      "\u001b[49m\n"
     ]
    }
   ],
   "source": [
    "#Using color codes for printing colored background!\n",
    "\n",
    "print('\\033[45m' + \"Hello World!\") #prints \"Hello World!\" in 'MAGENTA' background color!\n",
    "print('\\033[49m') #resets the background color\n",
    "\n",
    "print('\\033[46m' + \"Hello World!\") #prints \"Hello World!\" in 'CYAN' background color!\n",
    "print('\\033[49m') #resets the background color"
   ]
  }
 ],
 "metadata": {
  "kernelspec": {
   "display_name": "Python 3",
   "language": "python",
   "name": "python3"
  },
  "language_info": {
   "codemirror_mode": {
    "name": "ipython",
    "version": 3
   },
   "file_extension": ".py",
   "mimetype": "text/x-python",
   "name": "python",
   "nbconvert_exporter": "python",
   "pygments_lexer": "ipython3",
   "version": "3.7.6"
  }
 },
 "nbformat": 4,
 "nbformat_minor": 4
}
