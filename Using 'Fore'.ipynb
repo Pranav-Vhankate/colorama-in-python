{
 "cells": [
  {
   "cell_type": "markdown",
   "metadata": {},
   "source": [
    "# Using 'Fore' from colorama in python"
   ]
  },
  {
   "cell_type": "code",
   "execution_count": 1,
   "metadata": {},
   "outputs": [],
   "source": [
    "from colorama import Fore"
   ]
  },
  {
   "cell_type": "code",
   "execution_count": 8,
   "metadata": {},
   "outputs": [
    {
     "name": "stdout",
     "output_type": "stream",
     "text": [
      "\u001b[31mHello World\n",
      "\u001b[34mHello World\n",
      "\u001b[39m\n",
      "Available Font colors (Fore) in colorama:\n",
      "\n",
      "BLACK\n",
      "RED\n",
      "GREEN\n",
      "YELLOW\n",
      "BLUE\n",
      "MAGENTA\n",
      "CYAN\n",
      "WHITE\n"
     ]
    }
   ],
   "source": [
    "print(Fore.RED + \"Hello World\") #prints \"Hello World\" in 'RED' text color!\n",
    "\n",
    "print(Fore.BLUE + \"Hello World\") #prints \"Hello World\" in 'BLUE' text color!\n",
    "\n",
    "print(Fore.RESET) #resets the font color\n",
    "\n",
    "print(\"Available Font colors (Fore) in colorama:\\n\")\n",
    "font_colors = ['BLACK', 'RED', 'GREEN', 'YELLOW', 'BLUE', 'MAGENTA', 'CYAN', 'WHITE']\n",
    "for items in font_colors:\n",
    "    print(items)"
   ]
  },
  {
   "cell_type": "code",
   "execution_count": 12,
   "metadata": {},
   "outputs": [
    {
     "name": "stdout",
     "output_type": "stream",
     "text": [
      "\u001b[35mHello World!\n",
      "\u001b[39m\n",
      "\u001b[36mHello World!\n",
      "\u001b[39m\n"
     ]
    }
   ],
   "source": [
    "#Using color codes for printing colored text!\n",
    "\n",
    "print('\\033[35m' + \"Hello World!\") #prints \"Hello World!\" in 'MAGENTA' text color!\n",
    "print('\\033[39m') #resets the font color\n",
    "\n",
    "print('\\033[36m' + \"Hello World!\") #prints \"Hello World!\" in 'CYAN' text color!\n",
    "print('\\033[39m') #resets the font color"
   ]
  }
 ],
 "metadata": {
  "kernelspec": {
   "display_name": "Python 3",
   "language": "python",
   "name": "python3"
  },
  "language_info": {
   "codemirror_mode": {
    "name": "ipython",
    "version": 3
   },
   "file_extension": ".py",
   "mimetype": "text/x-python",
   "name": "python",
   "nbconvert_exporter": "python",
   "pygments_lexer": "ipython3",
   "version": "3.7.6"
  }
 },
 "nbformat": 4,
 "nbformat_minor": 4
}
