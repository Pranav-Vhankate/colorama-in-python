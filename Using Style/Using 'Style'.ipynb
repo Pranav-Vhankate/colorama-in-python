{
 "cells": [
  {
   "cell_type": "markdown",
   "metadata": {},
   "source": [
    "# Using 'Style' from colorama in python"
   ]
  },
  {
   "cell_type": "code",
   "execution_count": 1,
   "metadata": {},
   "outputs": [],
   "source": [
    "from colorama import Style"
   ]
  },
  {
   "cell_type": "code",
   "execution_count": 2,
   "metadata": {},
   "outputs": [
    {
     "name": "stdout",
     "output_type": "stream",
     "text": [
      "\u001b[1mHello World!\n",
      "\u001b[0m\n",
      "\u001b[2mHello World!\n",
      "\u001b[0m\n",
      "\u001b[22mHello World!\n",
      "\u001b[0m\n"
     ]
    }
   ],
   "source": [
    "#Using 'Style' to enhance the text\n",
    "\n",
    "print(Style.BRIGHT + \"Hello World!\") #prints \"Hello World!\" in a brighter than normal!\n",
    "print(Style.RESET_ALL) #Resets the emphasis of the font\n",
    "\n",
    "print(Style.DIM + \"Hello World!\") #prints \"Hello World!\" dimmer than normal!\n",
    "print(Style.RESET_ALL)\n",
    "\n",
    "print(Style.NORMAL + \"Hello World!\") #prints \"Hello World!\" in a normal font emphasis!\n",
    "print(Style.RESET_ALL)"
   ]
  }
 ],
 "metadata": {
  "kernelspec": {
   "display_name": "Python 3",
   "language": "python",
   "name": "python3"
  },
  "language_info": {
   "codemirror_mode": {
    "name": "ipython",
    "version": 3
   },
   "file_extension": ".py",
   "mimetype": "text/x-python",
   "name": "python",
   "nbconvert_exporter": "python",
   "pygments_lexer": "ipython3",
   "version": "3.7.6"
  }
 },
 "nbformat": 4,
 "nbformat_minor": 4
}
